{
  "nbformat": 4,
  "nbformat_minor": 0,
  "metadata": {
    "colab": {
      "provenance": []
    },
    "kernelspec": {
      "name": "python3",
      "display_name": "Python 3"
    },
    "language_info": {
      "name": "python"
    },
    "accelerator": "GPU",
    "gpuClass": "standard"
  },
  "cells": [
    {
      "cell_type": "code",
      "execution_count": 1,
      "metadata": {
        "id": "4rVlfNhFTgvJ"
      },
      "outputs": [],
      "source": [
        "import pandas as pd\n",
        "import numpy as np\n",
        "import matplotlib.pyplot as plt\n",
        "from tqdm import tqdm\n",
        "import os"
      ]
    },
    {
      "cell_type": "code",
      "source": [
        "# PyTorch Lightning\n",
        "try:\n",
        "    import pytorch_lightning as pl\n",
        "except ModuleNotFoundError: # Google Colab does not have PyTorch Lightning installed by default. Hence, we do it here if necessary\n",
        "    !pip install --quiet pytorch-lightning>=1.4\n",
        "    import pytorch_lightning as pl\n",
        "from pytorch_lightning.callbacks import LearningRateMonitor, ModelCheckpoint"
      ],
      "metadata": {
        "id": "TsMU1nsjoPB6"
      },
      "execution_count": 2,
      "outputs": []
    },
    {
      "cell_type": "markdown",
      "source": [
        "## Загрузка и предобработка данных"
      ],
      "metadata": {
        "id": "1Ceyv3a3X7oD"
      }
    },
    {
      "cell_type": "code",
      "source": [
        "!mkdir train_data test_data"
      ],
      "metadata": {
        "colab": {
          "base_uri": "https://localhost:8080/"
        },
        "id": "PqkLPYeadZML",
        "outputId": "3c767c61-bc15-47d8-e270-4222be84086b"
      },
      "execution_count": 3,
      "outputs": [
        {
          "output_type": "stream",
          "name": "stdout",
          "text": [
            "mkdir: cannot create directory ‘train_data’: File exists\n",
            "mkdir: cannot create directory ‘test_data’: File exists\n"
          ]
        }
      ]
    },
    {
      "cell_type": "code",
      "source": [
        "!mkdir train_data/class_0 test_data/class_0"
      ],
      "metadata": {
        "id": "AYf_14_hjEKc"
      },
      "execution_count": 13,
      "outputs": []
    },
    {
      "cell_type": "code",
      "source": [
        "df = pd.read_feather('burst_data_all.fth')\n",
        "df.head()"
      ],
      "metadata": {
        "colab": {
          "base_uri": "https://localhost:8080/",
          "height": 299
        },
        "id": "XYAMLVMWUE6e",
        "outputId": "48349f10-dafc-41a6-8d23-722c0736b7ad"
      },
      "execution_count": 3,
      "outputs": [
        {
          "output_type": "execute_result",
          "data": {
            "text/plain": [
              "          0         1         2         3         4         5         6  \\\n",
              "0  0.007503  0.010015  0.010986  0.009562  0.006206  0.011565  0.010189   \n",
              "1  0.004064  0.004700 -0.001783  0.006729  0.006819  0.007735  0.005359   \n",
              "2  0.015112  0.020660  0.014745  0.031673  0.029807  0.025416  0.021048   \n",
              "3  0.000142  0.000277 -0.000076  0.000288 -0.000010  0.000061  0.000127   \n",
              "4  0.000431  0.000405  0.000806  0.000002  0.000299  0.000284  0.000187   \n",
              "\n",
              "          7         8         9  ...  15298  15299  15300  15301  15302  \\\n",
              "0  0.014302  0.009023  0.011970  ...    0.0    0.0    0.0    0.0    0.0   \n",
              "1  0.006582  0.005350  0.005619  ...    0.0    0.0    0.0    0.0    0.0   \n",
              "2  0.028070  0.022229  0.021666  ...    0.0    0.0    0.0    0.0    0.0   \n",
              "3  0.000202  0.000193 -0.000091  ...    0.0    0.0    0.0    0.0    0.0   \n",
              "4  0.000166  0.000466  0.000377  ...    0.0    0.0    0.0    0.0    0.0   \n",
              "\n",
              "   15303  15304  15305  15306  15307  \n",
              "0    0.0    0.0    0.0    0.0    0.0  \n",
              "1    0.0    0.0    0.0    0.0    0.0  \n",
              "2    0.0    0.0    0.0    0.0    0.0  \n",
              "3    0.0    0.0    0.0    0.0    0.0  \n",
              "4    0.0    0.0    0.0    0.0    0.0  \n",
              "\n",
              "[5 rows x 15308 columns]"
            ],
            "text/html": [
              "\n",
              "  <div id=\"df-9c5983ed-b76f-454d-acaa-bcf2ddefb3e0\">\n",
              "    <div class=\"colab-df-container\">\n",
              "      <div>\n",
              "<style scoped>\n",
              "    .dataframe tbody tr th:only-of-type {\n",
              "        vertical-align: middle;\n",
              "    }\n",
              "\n",
              "    .dataframe tbody tr th {\n",
              "        vertical-align: top;\n",
              "    }\n",
              "\n",
              "    .dataframe thead th {\n",
              "        text-align: right;\n",
              "    }\n",
              "</style>\n",
              "<table border=\"1\" class=\"dataframe\">\n",
              "  <thead>\n",
              "    <tr style=\"text-align: right;\">\n",
              "      <th></th>\n",
              "      <th>0</th>\n",
              "      <th>1</th>\n",
              "      <th>2</th>\n",
              "      <th>3</th>\n",
              "      <th>4</th>\n",
              "      <th>5</th>\n",
              "      <th>6</th>\n",
              "      <th>7</th>\n",
              "      <th>8</th>\n",
              "      <th>9</th>\n",
              "      <th>...</th>\n",
              "      <th>15298</th>\n",
              "      <th>15299</th>\n",
              "      <th>15300</th>\n",
              "      <th>15301</th>\n",
              "      <th>15302</th>\n",
              "      <th>15303</th>\n",
              "      <th>15304</th>\n",
              "      <th>15305</th>\n",
              "      <th>15306</th>\n",
              "      <th>15307</th>\n",
              "    </tr>\n",
              "  </thead>\n",
              "  <tbody>\n",
              "    <tr>\n",
              "      <th>0</th>\n",
              "      <td>0.007503</td>\n",
              "      <td>0.010015</td>\n",
              "      <td>0.010986</td>\n",
              "      <td>0.009562</td>\n",
              "      <td>0.006206</td>\n",
              "      <td>0.011565</td>\n",
              "      <td>0.010189</td>\n",
              "      <td>0.014302</td>\n",
              "      <td>0.009023</td>\n",
              "      <td>0.011970</td>\n",
              "      <td>...</td>\n",
              "      <td>0.0</td>\n",
              "      <td>0.0</td>\n",
              "      <td>0.0</td>\n",
              "      <td>0.0</td>\n",
              "      <td>0.0</td>\n",
              "      <td>0.0</td>\n",
              "      <td>0.0</td>\n",
              "      <td>0.0</td>\n",
              "      <td>0.0</td>\n",
              "      <td>0.0</td>\n",
              "    </tr>\n",
              "    <tr>\n",
              "      <th>1</th>\n",
              "      <td>0.004064</td>\n",
              "      <td>0.004700</td>\n",
              "      <td>-0.001783</td>\n",
              "      <td>0.006729</td>\n",
              "      <td>0.006819</td>\n",
              "      <td>0.007735</td>\n",
              "      <td>0.005359</td>\n",
              "      <td>0.006582</td>\n",
              "      <td>0.005350</td>\n",
              "      <td>0.005619</td>\n",
              "      <td>...</td>\n",
              "      <td>0.0</td>\n",
              "      <td>0.0</td>\n",
              "      <td>0.0</td>\n",
              "      <td>0.0</td>\n",
              "      <td>0.0</td>\n",
              "      <td>0.0</td>\n",
              "      <td>0.0</td>\n",
              "      <td>0.0</td>\n",
              "      <td>0.0</td>\n",
              "      <td>0.0</td>\n",
              "    </tr>\n",
              "    <tr>\n",
              "      <th>2</th>\n",
              "      <td>0.015112</td>\n",
              "      <td>0.020660</td>\n",
              "      <td>0.014745</td>\n",
              "      <td>0.031673</td>\n",
              "      <td>0.029807</td>\n",
              "      <td>0.025416</td>\n",
              "      <td>0.021048</td>\n",
              "      <td>0.028070</td>\n",
              "      <td>0.022229</td>\n",
              "      <td>0.021666</td>\n",
              "      <td>...</td>\n",
              "      <td>0.0</td>\n",
              "      <td>0.0</td>\n",
              "      <td>0.0</td>\n",
              "      <td>0.0</td>\n",
              "      <td>0.0</td>\n",
              "      <td>0.0</td>\n",
              "      <td>0.0</td>\n",
              "      <td>0.0</td>\n",
              "      <td>0.0</td>\n",
              "      <td>0.0</td>\n",
              "    </tr>\n",
              "    <tr>\n",
              "      <th>3</th>\n",
              "      <td>0.000142</td>\n",
              "      <td>0.000277</td>\n",
              "      <td>-0.000076</td>\n",
              "      <td>0.000288</td>\n",
              "      <td>-0.000010</td>\n",
              "      <td>0.000061</td>\n",
              "      <td>0.000127</td>\n",
              "      <td>0.000202</td>\n",
              "      <td>0.000193</td>\n",
              "      <td>-0.000091</td>\n",
              "      <td>...</td>\n",
              "      <td>0.0</td>\n",
              "      <td>0.0</td>\n",
              "      <td>0.0</td>\n",
              "      <td>0.0</td>\n",
              "      <td>0.0</td>\n",
              "      <td>0.0</td>\n",
              "      <td>0.0</td>\n",
              "      <td>0.0</td>\n",
              "      <td>0.0</td>\n",
              "      <td>0.0</td>\n",
              "    </tr>\n",
              "    <tr>\n",
              "      <th>4</th>\n",
              "      <td>0.000431</td>\n",
              "      <td>0.000405</td>\n",
              "      <td>0.000806</td>\n",
              "      <td>0.000002</td>\n",
              "      <td>0.000299</td>\n",
              "      <td>0.000284</td>\n",
              "      <td>0.000187</td>\n",
              "      <td>0.000166</td>\n",
              "      <td>0.000466</td>\n",
              "      <td>0.000377</td>\n",
              "      <td>...</td>\n",
              "      <td>0.0</td>\n",
              "      <td>0.0</td>\n",
              "      <td>0.0</td>\n",
              "      <td>0.0</td>\n",
              "      <td>0.0</td>\n",
              "      <td>0.0</td>\n",
              "      <td>0.0</td>\n",
              "      <td>0.0</td>\n",
              "      <td>0.0</td>\n",
              "      <td>0.0</td>\n",
              "    </tr>\n",
              "  </tbody>\n",
              "</table>\n",
              "<p>5 rows × 15308 columns</p>\n",
              "</div>\n",
              "      <button class=\"colab-df-convert\" onclick=\"convertToInteractive('df-9c5983ed-b76f-454d-acaa-bcf2ddefb3e0')\"\n",
              "              title=\"Convert this dataframe to an interactive table.\"\n",
              "              style=\"display:none;\">\n",
              "        \n",
              "  <svg xmlns=\"http://www.w3.org/2000/svg\" height=\"24px\"viewBox=\"0 0 24 24\"\n",
              "       width=\"24px\">\n",
              "    <path d=\"M0 0h24v24H0V0z\" fill=\"none\"/>\n",
              "    <path d=\"M18.56 5.44l.94 2.06.94-2.06 2.06-.94-2.06-.94-.94-2.06-.94 2.06-2.06.94zm-11 1L8.5 8.5l.94-2.06 2.06-.94-2.06-.94L8.5 2.5l-.94 2.06-2.06.94zm10 10l.94 2.06.94-2.06 2.06-.94-2.06-.94-.94-2.06-.94 2.06-2.06.94z\"/><path d=\"M17.41 7.96l-1.37-1.37c-.4-.4-.92-.59-1.43-.59-.52 0-1.04.2-1.43.59L10.3 9.45l-7.72 7.72c-.78.78-.78 2.05 0 2.83L4 21.41c.39.39.9.59 1.41.59.51 0 1.02-.2 1.41-.59l7.78-7.78 2.81-2.81c.8-.78.8-2.07 0-2.86zM5.41 20L4 18.59l7.72-7.72 1.47 1.35L5.41 20z\"/>\n",
              "  </svg>\n",
              "      </button>\n",
              "      \n",
              "  <style>\n",
              "    .colab-df-container {\n",
              "      display:flex;\n",
              "      flex-wrap:wrap;\n",
              "      gap: 12px;\n",
              "    }\n",
              "\n",
              "    .colab-df-convert {\n",
              "      background-color: #E8F0FE;\n",
              "      border: none;\n",
              "      border-radius: 50%;\n",
              "      cursor: pointer;\n",
              "      display: none;\n",
              "      fill: #1967D2;\n",
              "      height: 32px;\n",
              "      padding: 0 0 0 0;\n",
              "      width: 32px;\n",
              "    }\n",
              "\n",
              "    .colab-df-convert:hover {\n",
              "      background-color: #E2EBFA;\n",
              "      box-shadow: 0px 1px 2px rgba(60, 64, 67, 0.3), 0px 1px 3px 1px rgba(60, 64, 67, 0.15);\n",
              "      fill: #174EA6;\n",
              "    }\n",
              "\n",
              "    [theme=dark] .colab-df-convert {\n",
              "      background-color: #3B4455;\n",
              "      fill: #D2E3FC;\n",
              "    }\n",
              "\n",
              "    [theme=dark] .colab-df-convert:hover {\n",
              "      background-color: #434B5C;\n",
              "      box-shadow: 0px 1px 3px 1px rgba(0, 0, 0, 0.15);\n",
              "      filter: drop-shadow(0px 1px 2px rgba(0, 0, 0, 0.3));\n",
              "      fill: #FFFFFF;\n",
              "    }\n",
              "  </style>\n",
              "\n",
              "      <script>\n",
              "        const buttonEl =\n",
              "          document.querySelector('#df-9c5983ed-b76f-454d-acaa-bcf2ddefb3e0 button.colab-df-convert');\n",
              "        buttonEl.style.display =\n",
              "          google.colab.kernel.accessAllowed ? 'block' : 'none';\n",
              "\n",
              "        async function convertToInteractive(key) {\n",
              "          const element = document.querySelector('#df-9c5983ed-b76f-454d-acaa-bcf2ddefb3e0');\n",
              "          const dataTable =\n",
              "            await google.colab.kernel.invokeFunction('convertToInteractive',\n",
              "                                                     [key], {});\n",
              "          if (!dataTable) return;\n",
              "\n",
              "          const docLinkHtml = 'Like what you see? Visit the ' +\n",
              "            '<a target=\"_blank\" href=https://colab.research.google.com/notebooks/data_table.ipynb>data table notebook</a>'\n",
              "            + ' to learn more about interactive tables.';\n",
              "          element.innerHTML = '';\n",
              "          dataTable['output_type'] = 'display_data';\n",
              "          await google.colab.output.renderOutput(dataTable, element);\n",
              "          const docLink = document.createElement('div');\n",
              "          docLink.innerHTML = docLinkHtml;\n",
              "          element.appendChild(docLink);\n",
              "        }\n",
              "      </script>\n",
              "    </div>\n",
              "  </div>\n",
              "  "
            ]
          },
          "metadata": {},
          "execution_count": 3
        }
      ]
    },
    {
      "cell_type": "code",
      "source": [
        "%cd train_data/class_0\n",
        "\n",
        "for i in tqdm(df.index[:1100]):\n",
        "  plt.plot(df.iloc[i,:1000])\n",
        "  plt.axis('off')\n",
        "  plt.savefig(f\"gb{i}.png\", bbox_inches='tight')\n",
        "  plt.close()\n",
        "\n",
        "%cd ../.."
      ],
      "metadata": {
        "colab": {
          "base_uri": "https://localhost:8080/"
        },
        "id": "UmA7021tUF5q",
        "outputId": "a14e5868-5a01-4591-ad0a-5539f93ccbbb"
      },
      "execution_count": 14,
      "outputs": [
        {
          "output_type": "stream",
          "name": "stdout",
          "text": [
            "/content/train_data/class_0\n"
          ]
        },
        {
          "output_type": "stream",
          "name": "stderr",
          "text": [
            "100%|██████████| 1100/1100 [00:49<00:00, 22.01it/s]"
          ]
        },
        {
          "output_type": "stream",
          "name": "stdout",
          "text": [
            "/content\n"
          ]
        },
        {
          "output_type": "stream",
          "name": "stderr",
          "text": [
            "\n"
          ]
        }
      ]
    },
    {
      "cell_type": "code",
      "source": [
        "%cd test_data/class_0\n",
        "\n",
        "for i in tqdm(df.index[1100:]):\n",
        "  plt.plot(df.iloc[i,:1000])\n",
        "  plt.axis('off')\n",
        "  plt.savefig(f\"gb{i}.png\", bbox_inches='tight')\n",
        "  plt.close()\n",
        "\n",
        "%cd ../.."
      ],
      "metadata": {
        "colab": {
          "base_uri": "https://localhost:8080/"
        },
        "id": "RFCOJh-_U0fY",
        "outputId": "c6d44ed0-f624-4674-c7c3-b82c70a9f40a"
      },
      "execution_count": 15,
      "outputs": [
        {
          "output_type": "stream",
          "name": "stdout",
          "text": [
            "/content/test_data/class_0\n"
          ]
        },
        {
          "output_type": "stream",
          "name": "stderr",
          "text": [
            "100%|██████████| 249/249 [00:12<00:00, 19.24it/s]"
          ]
        },
        {
          "output_type": "stream",
          "name": "stdout",
          "text": [
            "/content\n"
          ]
        },
        {
          "output_type": "stream",
          "name": "stderr",
          "text": [
            "\n"
          ]
        }
      ]
    },
    {
      "cell_type": "markdown",
      "source": [
        "## Обучение модели "
      ],
      "metadata": {
        "id": "wn9_PVqSfQkT"
      }
    },
    {
      "cell_type": "code",
      "source": [
        "import torch\n",
        "from torch.utils.data import DataLoader\n",
        "from torchvision import datasets, transforms\n",
        "import matplotlib.pyplot as plt # plotting library\n",
        "import numpy as np # this module is useful to work with numerical arrays\n",
        "import pandas as pd \n",
        "import random \n",
        "import torch\n",
        "import torchvision\n",
        "from torchvision import transforms\n",
        "from torch.utils.data import DataLoader,random_split\n",
        "from torch import nn\n",
        "import torch.nn.functional as F\n",
        "import torch.optim as optim"
      ],
      "metadata": {
        "id": "3vQK46DBhuxs"
      },
      "execution_count": 4,
      "outputs": []
    },
    {
      "cell_type": "code",
      "source": [
        "data_transform_ = transforms.Compose([\n",
        "    transforms.Resize(size=(32, 32)),\n",
        "    transforms.ToTensor()  \n",
        "])"
      ],
      "metadata": {
        "id": "kBrmno8vtDbo"
      },
      "execution_count": 5,
      "outputs": []
    },
    {
      "cell_type": "code",
      "source": [
        "from torchvision import datasets\n",
        "\n",
        "train_loader = datasets.ImageFolder(root='train_data', \n",
        "                                  transform=data_transform_  )\n",
        "\n",
        "val_loader = datasets.ImageFolder(root='test_data', \n",
        "                                 transform=data_transform_)\n",
        "\n",
        "print(f\"Train data:\\n{train_loader}\\nTest data:\\n{val_loader}\")\n"
      ],
      "metadata": {
        "colab": {
          "base_uri": "https://localhost:8080/"
        },
        "id": "B2cFUhs-fSnu",
        "outputId": "70bfdc33-cf47-46d3-848b-edd2e762c8a4"
      },
      "execution_count": 7,
      "outputs": [
        {
          "output_type": "stream",
          "name": "stdout",
          "text": [
            "Train data:\n",
            "Dataset ImageFolder\n",
            "    Number of datapoints: 1100\n",
            "    Root location: train_data\n",
            "    StandardTransform\n",
            "Transform: Compose(\n",
            "               Resize(size=(32, 32), interpolation=bilinear, max_size=None, antialias=None)\n",
            "               ToTensor()\n",
            "           )\n",
            "Test data:\n",
            "Dataset ImageFolder\n",
            "    Number of datapoints: 249\n",
            "    Root location: test_data\n",
            "    StandardTransform\n",
            "Transform: Compose(\n",
            "               Resize(size=(32, 32), interpolation=bilinear, max_size=None, antialias=None)\n",
            "               ToTensor()\n",
            "           )\n"
          ]
        }
      ]
    },
    {
      "cell_type": "code",
      "source": [
        "!git clone https://github.com/axkoenig/autoencoder.git"
      ],
      "metadata": {
        "colab": {
          "base_uri": "https://localhost:8080/"
        },
        "id": "gkoXDShyp-vK",
        "outputId": "32454d27-02f4-4771-9688-563862052ac5"
      },
      "execution_count": 18,
      "outputs": [
        {
          "output_type": "stream",
          "name": "stdout",
          "text": [
            "Cloning into 'autoencoder'...\n",
            "remote: Enumerating objects: 29, done.\u001b[K\n",
            "remote: Counting objects: 100% (29/29), done.\u001b[K\n",
            "remote: Compressing objects: 100% (21/21), done.\u001b[K\n",
            "remote: Total 29 (delta 9), reused 24 (delta 8), pack-reused 0\u001b[K\n",
            "Unpacking objects: 100% (29/29), done.\n"
          ]
        }
      ]
    },
    {
      "cell_type": "code",
      "source": [
        "!pip install -r autoencoder/requirements.txt"
      ],
      "metadata": {
        "id": "GsrCvmKRtMEH"
      },
      "execution_count": 24,
      "outputs": []
    },
    {
      "cell_type": "code",
      "source": [
        "!python autoencoder/autoencoder.py --data_root train_data --gpus 1"
      ],
      "metadata": {
        "colab": {
          "base_uri": "https://localhost:8080/"
        },
        "id": "elXyhyFOvLBw",
        "outputId": "861d47e3-baa2-40f4-f8ec-8e8546cc58da"
      },
      "execution_count": 22,
      "outputs": [
        {
          "output_type": "stream",
          "name": "stdout",
          "text": [
            "----------------------------------------------------------------\n",
            "        Layer (type)               Output Shape         Param #\n",
            "================================================================\n",
            "            Conv2d-1           [-1, 64, 64, 64]           3,072\n",
            "       BatchNorm2d-2           [-1, 64, 64, 64]             128\n",
            "         LeakyReLU-3           [-1, 64, 64, 64]               0\n",
            "            Conv2d-4          [-1, 128, 32, 32]         131,072\n",
            "       BatchNorm2d-5          [-1, 128, 32, 32]             256\n",
            "         LeakyReLU-6          [-1, 128, 32, 32]               0\n",
            "            Conv2d-7          [-1, 256, 16, 16]         524,288\n",
            "       BatchNorm2d-8          [-1, 256, 16, 16]             512\n",
            "         LeakyReLU-9          [-1, 256, 16, 16]               0\n",
            "           Conv2d-10            [-1, 512, 8, 8]       2,097,152\n",
            "      BatchNorm2d-11            [-1, 512, 8, 8]           1,024\n",
            "        LeakyReLU-12            [-1, 512, 8, 8]               0\n",
            "           Conv2d-13           [-1, 1024, 4, 4]       8,388,608\n",
            "      BatchNorm2d-14           [-1, 1024, 4, 4]           2,048\n",
            "        LeakyReLU-15           [-1, 1024, 4, 4]               0\n",
            "           Conv2d-16            [-1, 256, 1, 1]       4,194,304\n",
            "      BatchNorm2d-17            [-1, 256, 1, 1]             512\n",
            "        LeakyReLU-18            [-1, 256, 1, 1]               0\n",
            "  ConvTranspose2d-19           [-1, 1024, 4, 4]       4,194,304\n",
            "      BatchNorm2d-20           [-1, 1024, 4, 4]           2,048\n",
            "             ReLU-21           [-1, 1024, 4, 4]               0\n",
            "  ConvTranspose2d-22            [-1, 512, 8, 8]       8,388,608\n",
            "      BatchNorm2d-23            [-1, 512, 8, 8]           1,024\n",
            "             ReLU-24            [-1, 512, 8, 8]               0\n",
            "  ConvTranspose2d-25          [-1, 256, 16, 16]       2,097,152\n",
            "      BatchNorm2d-26          [-1, 256, 16, 16]             512\n",
            "             ReLU-27          [-1, 256, 16, 16]               0\n",
            "  ConvTranspose2d-28          [-1, 128, 32, 32]         524,288\n",
            "      BatchNorm2d-29          [-1, 128, 32, 32]             256\n",
            "             ReLU-30          [-1, 128, 32, 32]               0\n",
            "  ConvTranspose2d-31           [-1, 64, 64, 64]         131,072\n",
            "      BatchNorm2d-32           [-1, 64, 64, 64]             128\n",
            "             ReLU-33           [-1, 64, 64, 64]               0\n",
            "  ConvTranspose2d-34          [-1, 3, 128, 128]           3,072\n",
            "             Tanh-35          [-1, 3, 128, 128]               0\n",
            "================================================================\n",
            "Total params: 30,685,440\n",
            "Trainable params: 30,685,440\n",
            "Non-trainable params: 0\n",
            "----------------------------------------------------------------\n",
            "Input size (MB): 0.19\n",
            "Forward/backward pass size (MB): 24.01\n",
            "Params size (MB): 117.06\n",
            "Estimated Total Size (MB): 141.25\n",
            "----------------------------------------------------------------\n",
            "INFO:lightning:GPU available: True, used: True\n",
            "INFO:lightning:CUDA_VISIBLE_DEVICES: [0]\n",
            "INFO:numexpr.utils:NumExpr defaulting to 2 threads.\n",
            "INFO:lightning:\n",
            "   | Name       | Type            | Params\n",
            "-------------------------------------------\n",
            "0  | encoder    | Sequential      | 15 M  \n",
            "1  | encoder.0  | Conv2d          | 3 K   \n",
            "2  | encoder.1  | BatchNorm2d     | 128   \n",
            "3  | encoder.2  | LeakyReLU       | 0     \n",
            "4  | encoder.3  | Conv2d          | 131 K \n",
            "5  | encoder.4  | BatchNorm2d     | 256   \n",
            "6  | encoder.5  | LeakyReLU       | 0     \n",
            "7  | encoder.6  | Conv2d          | 524 K \n",
            "8  | encoder.7  | BatchNorm2d     | 512   \n",
            "9  | encoder.8  | LeakyReLU       | 0     \n",
            "10 | encoder.9  | Conv2d          | 2 M   \n",
            "11 | encoder.10 | BatchNorm2d     | 1 K   \n",
            "12 | encoder.11 | LeakyReLU       | 0     \n",
            "13 | encoder.12 | Conv2d          | 8 M   \n",
            "14 | encoder.13 | BatchNorm2d     | 2 K   \n",
            "15 | encoder.14 | LeakyReLU       | 0     \n",
            "16 | encoder.15 | Conv2d          | 4 M   \n",
            "17 | encoder.16 | BatchNorm2d     | 512   \n",
            "18 | encoder.17 | LeakyReLU       | 0     \n",
            "19 | decoder    | Sequential      | 15 M  \n",
            "20 | decoder.0  | ConvTranspose2d | 4 M   \n",
            "21 | decoder.1  | BatchNorm2d     | 2 K   \n",
            "22 | decoder.2  | ReLU            | 0     \n",
            "23 | decoder.3  | ConvTranspose2d | 8 M   \n",
            "24 | decoder.4  | BatchNorm2d     | 1 K   \n",
            "25 | decoder.5  | ReLU            | 0     \n",
            "26 | decoder.6  | ConvTranspose2d | 2 M   \n",
            "27 | decoder.7  | BatchNorm2d     | 512   \n",
            "28 | decoder.8  | ReLU            | 0     \n",
            "29 | decoder.9  | ConvTranspose2d | 524 K \n",
            "30 | decoder.10 | BatchNorm2d     | 256   \n",
            "31 | decoder.11 | ReLU            | 0     \n",
            "32 | decoder.12 | ConvTranspose2d | 131 K \n",
            "33 | decoder.13 | BatchNorm2d     | 128   \n",
            "34 | decoder.14 | ReLU            | 0     \n",
            "35 | decoder.15 | ConvTranspose2d | 3 K   \n",
            "36 | decoder.16 | Tanh            | 0     \n",
            "Epoch 1:  94% 16/17 [00:05<00:00,  2.97it/s, loss=0.687, v_num=0]\n",
            "Validating: 0it [00:00, ?it/s]\u001b[A\n",
            "Epoch 1: 100% 17/17 [00:05<00:00,  2.94it/s, loss=0.687, v_num=0]\n",
            "                                             \u001b[A/usr/local/lib/python3.7/dist-packages/pytorch_lightning/utilities/distributed.py:23: RuntimeWarning: Can save best model only with val_loss available, skipping.\n",
            "  warnings.warn(*args, **kwargs)\n",
            "Epoch 2:  94% 16/17 [00:05<00:00,  2.99it/s, loss=0.384, v_num=0]\n",
            "Validating: 0it [00:00, ?it/s]\u001b[A\n",
            "Epoch 2: 100% 17/17 [00:05<00:00,  2.96it/s, loss=0.384, v_num=0]\n",
            "Epoch 3:  94% 16/17 [00:05<00:00,  2.90it/s, loss=0.262, v_num=0]\n",
            "Validating: 0it [00:00, ?it/s]\u001b[A\n",
            "Epoch 3: 100% 17/17 [00:06<00:00,  2.80it/s, loss=0.262, v_num=0]\n",
            "Epoch 4:  94% 16/17 [00:05<00:00,  2.93it/s, loss=0.191, v_num=0]\n",
            "Validating: 0it [00:00, ?it/s]\u001b[A\n",
            "Epoch 4: 100% 17/17 [00:05<00:00,  2.90it/s, loss=0.191, v_num=0]\n",
            "Epoch 5:  94% 16/17 [00:05<00:00,  2.99it/s, loss=0.150, v_num=0]\n",
            "Validating: 0it [00:00, ?it/s]\u001b[A\n",
            "Epoch 5: 100% 17/17 [00:05<00:00,  2.96it/s, loss=0.150, v_num=0]\n",
            "Epoch 6:  94% 16/17 [00:05<00:00,  2.94it/s, loss=0.122, v_num=0]\n",
            "Validating: 0it [00:00, ?it/s]\u001b[A\n",
            "Epoch 6: 100% 17/17 [00:05<00:00,  2.92it/s, loss=0.122, v_num=0]\n",
            "Epoch 7:  94% 16/17 [00:05<00:00,  2.90it/s, loss=0.105, v_num=0]\n",
            "Validating: 0it [00:00, ?it/s]\u001b[A\n",
            "Epoch 7: 100% 17/17 [00:05<00:00,  2.88it/s, loss=0.105, v_num=0]\n",
            "Epoch 8:  94% 16/17 [00:05<00:00,  2.81it/s, loss=0.090, v_num=0]\n",
            "Validating: 0it [00:00, ?it/s]\u001b[A\n",
            "Epoch 8: 100% 17/17 [00:06<00:00,  2.79it/s, loss=0.090, v_num=0]\n",
            "Epoch 9:  94% 16/17 [00:05<00:00,  2.81it/s, loss=0.080, v_num=0]\n",
            "Validating: 0it [00:00, ?it/s]\u001b[A\n",
            "Epoch 9: 100% 17/17 [00:06<00:00,  2.79it/s, loss=0.080, v_num=0]\n",
            "Epoch 10:  94% 16/17 [00:05<00:00,  2.76it/s, loss=0.073, v_num=0]\n",
            "Validating: 0it [00:00, ?it/s]\u001b[A\n",
            "Epoch 10: 100% 17/17 [00:06<00:00,  2.75it/s, loss=0.073, v_num=0]\n",
            "Epoch 10: 100% 17/17 [00:06<00:00,  2.75it/s, loss=0.073, v_num=0]\n",
            "Testing: 100% 1/1 [00:00<00:00,  2.21it/s]--------------------------------------------------------------------------------\n",
            "TEST RESULTS\n",
            "{'avg_test_loss': tensor(0.0629, device='cuda:0')}\n",
            "--------------------------------------------------------------------------------\n",
            "Testing: 100% 1/1 [00:00<00:00,  1.58it/s]\n"
          ]
        }
      ]
    },
    {
      "cell_type": "code",
      "source": [],
      "metadata": {
        "id": "vF0CxtojwiaJ"
      },
      "execution_count": null,
      "outputs": []
    }
  ]
}